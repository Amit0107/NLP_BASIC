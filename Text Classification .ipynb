{
 "cells": [
  {
   "cell_type": "code",
   "execution_count": 7,
   "metadata": {},
   "outputs": [
    {
     "name": "stdout",
     "output_type": "stream",
     "text": [
      "[nltk_data] Downloading package movie_reviews to\n",
      "[nltk_data]     C:\\Users\\Amit\\AppData\\Roaming\\nltk_data...\n",
      "[nltk_data]   Package movie_reviews is already up-to-date!\n"
     ]
    }
   ],
   "source": [
    "import nltk\n",
    "nltk.download('movie_reviews')\n",
    "import random\n",
    "from nltk.corpus import movie_reviews"
   ]
  },
  {
   "cell_type": "code",
   "execution_count": 8,
   "metadata": {},
   "outputs": [],
   "source": [
    "documents = [(list(movie_reviews.words(fileid)),category)\n",
    "           for category in movie_reviews.categories()\n",
    "           for fileid in movie_reviews.fileids(category)]"
   ]
  },
  {
   "cell_type": "code",
   "execution_count": 9,
   "metadata": {},
   "outputs": [],
   "source": [
    "random.shuffle(documents)\n",
    "#shuffiling of data is required so that traing and testing donot be same for same data"
   ]
  },
  {
   "cell_type": "code",
   "execution_count": 10,
   "metadata": {},
   "outputs": [
    {
     "name": "stdout",
     "output_type": "stream",
     "text": [
      "(['\"', 'a', 'private', 'matter', '\"', 'is', 'based', 'on', 'the', 'true', 'story', 'of', 'sherri', 'finkbine', 'and', 'the', 'events', 'in', 'her', 'life', 'during', 'the', '1960s', '.', 'after', 'becoming', 'pregnant', '(', 'for', 'the', 'fifth', 'time', ')', 'she', 'learns', 'that', 'some', 'tranquilizers', 'she', 'had', 'taken', 'have', 'seriously', 'deformed', 'her', 'unborn', 'child', '.', 'she', 'and', 'her', 'husband', 'decide', ',', 'with', 'the', 'help', 'of', 'her', 'doctor', ',', 'to', 'have', 'an', 'abortion', '.', 'but', 'this', 'is', 'the', '1960s', ',', 'and', 'abortion', 'is', 'illegal', '.', 'her', 'doctor', 'has', 'made', 'arrangements', 'to', 'have', 'the', 'procedure', 'performed', 'withing', 'the', 'law', ',', 'by', 'claiming', 'that', 'the', 'child', 'is', 'endangering', 'the', 'mother', \"'\", 's', 'life', '.', 'everything', 'is', 'about', 'to', 'work', 'out', 'just', 'fine', ',', 'until', 'sherri', 'has', 'the', 'uncontrollable', 'urge', 'to', 'talk', 'about', 'her', 'situation', 'with', 'a', 'local', 'reporter', '.', 'this', 'sets', 'off', 'a', 'media', 'frenzy', 'and', 'immediately', 'sherri', 'is', 'the', 'most', 'hated', 'woman', 'in', 'the', 'world', '.', 'she', 'and', 'her', 'husband', 'are', 'fired', 'from', 'their', 'jobs', ',', 'reporters', 'are', 'surrounding', 'their', 'home', 'at', 'all', 'times', ',', 'and', 'most', 'importantly', ',', 'no', 'one', 'in', 'the', 'country', '(', 'and', 'eventually', 'other', 'countries', ')', 'will', 'perform', 'the', 'abortion', '.', 'this', 'causes', 'emotion', 'problems', 'for', 'all', 'involved', '.', '\"', 'a', 'private', 'matter', '\"', 'is', 'a', 'fascinating', 'story', 'and', 'it', \"'\", 's', 'hard', 'to', 'believe', 'that', 'this', 'only', 'happened', '30', 'years', 'or', 'so', 'ago', '.', 'it', \"'\", 's', 'only', 'flaw', 'is', 'that', 'not', 'once', 'is', 'there', 'ever', 'a', 'satisfactory', 'confrontation', 'with', 'sherri', 'and', 'any', 'of', 'her', 'opponents', '.', 'one', 'woman', 'passing', 'her', 'on', 'the', 'street', 'telss', 'her', 'to', 'burn', 'in', 'hell', ',', 'and', 'when', 'sherri', 'appropriately', 'yells', 'back', ',', '\"', 'just', 'tell', 'me', 'what', 'i', \"'\", 'm', 'supposed', 'to', 'do', ',', '\"', 'the', 'woman', 'has', 'no', 'answer', '.', 'no', 'one', 'apparently', 'had', 'an', 'answer', ',', 'they', 'just', 'wanted', 'to', 'control', 'what', 'should', 'have', 'been', 'only', 'the', 'choice', 'of', 'sherri', 'and', 'her', 'husband', '.', 'this', 'is', 'an', 'important', 'film', ',', 'telling', 'an', 'important', 'story', '.', 'it', \"'\", 's', 'not', 'just', 'about', 'not', 'wanting', 'another', 'child', ',', 'it', \"'\", 's', 'about', 'not', 'wanting', 'a', 'child', 'who', 'will', 'cause', 'severe', 'changes', 'in', 'their', 'family', ',', 'none', 'of', 'which', 'could', 'be', 'beneficial', '.', 'sydney', 'pollack', 'served', 'as', 'executive', 'producer', 'for', 'this', 'made', 'for', 'hbo', 'movie', '.'], 'pos')\n"
     ]
    }
   ],
   "source": [
    "print(documents[1])"
   ]
  },
  {
   "cell_type": "code",
   "execution_count": 11,
   "metadata": {},
   "outputs": [],
   "source": [
    "all_words = []\n",
    "for w in movie_reviews.words():\n",
    "    all_words.append(w.lower())\n"
   ]
  },
  {
   "cell_type": "code",
   "execution_count": 12,
   "metadata": {},
   "outputs": [
    {
     "name": "stdout",
     "output_type": "stream",
     "text": [
      "[(',', 77717), ('the', 76529), ('.', 65876), ('a', 38106), ('and', 35576), ('of', 34123), ('to', 31937), (\"'\", 30585), ('is', 25195), ('in', 21822), ('s', 18513), ('\"', 17612), ('it', 16107), ('that', 15924), ('-', 15595)]\n"
     ]
    }
   ],
   "source": [
    "all_words = nltk.FreqDist(all_words)\n",
    "print(all_words.most_common(15))"
   ]
  },
  {
   "cell_type": "code",
   "execution_count": 13,
   "metadata": {},
   "outputs": [
    {
     "name": "stdout",
     "output_type": "stream",
     "text": [
      "922\n"
     ]
    }
   ],
   "source": [
    "print(all_words[\"better\"])"
   ]
  },
  {
   "cell_type": "code",
   "execution_count": null,
   "metadata": {},
   "outputs": [],
   "source": []
  }
 ],
 "metadata": {
  "kernelspec": {
   "display_name": "Python 3",
   "language": "python",
   "name": "python3"
  },
  "language_info": {
   "codemirror_mode": {
    "name": "ipython",
    "version": 3
   },
   "file_extension": ".py",
   "mimetype": "text/x-python",
   "name": "python",
   "nbconvert_exporter": "python",
   "pygments_lexer": "ipython3",
   "version": "3.6.5"
  }
 },
 "nbformat": 4,
 "nbformat_minor": 2
}
